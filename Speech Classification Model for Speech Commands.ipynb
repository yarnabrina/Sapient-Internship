{
 "cells": [
  {
   "cell_type": "code",
   "execution_count": 1,
   "metadata": {},
   "outputs": [
    {
     "name": "stderr",
     "output_type": "stream",
     "text": [
      "C:\\Users\\aniray\\AppData\\Local\\Continuum\\anaconda3\\lib\\site-packages\\h5py\\__init__.py:36: FutureWarning: Conversion of the second argument of issubdtype from `float` to `np.floating` is deprecated. In future, it will be treated as `np.float64 == np.dtype(float).type`.\n",
      "  from ._conv import register_converters as _register_converters\n",
      "Using TensorFlow backend.\n"
     ]
    }
   ],
   "source": [
    "import librosa, matplotlib.pyplot as plt, numpy as np, os\n",
    "from keras.callbacks import EarlyStopping, ModelCheckpoint\n",
    "from keras.layers import Conv2D, Dense, Dropout, Flatten, MaxPooling2D\n",
    "from keras.models import load_model, Sequential\n",
    "from keras.utils import plot_model, to_categorical\n",
    "from sklearn.model_selection import train_test_split\n",
    "from tqdm import tqdm"
   ]
  },
  {
   "cell_type": "code",
   "execution_count": 2,
   "metadata": {},
   "outputs": [],
   "source": [
    "# Input: Folder Path\n",
    "# Output: Tuple (Label, Indices of the labels, one-hot encoded labels)\n",
    "def get_labels(path):\n",
    "    labels = os.listdir(path)\n",
    "    label_indices = np.arange(0, len(labels))\n",
    "    return labels, label_indices, to_categorical(label_indices)\n",
    "\n",
    "# Handy function to convert wav2mfcc\n",
    "def wav2mfcc(file_path, max_len = 11):\n",
    "    wave, sr = librosa.load(file_path, mono = True, sr = None)\n",
    "    wave = wave[::3]\n",
    "    mfcc = librosa.feature.mfcc(wave, sr=16000)\n",
    "    # If maximum length exceeds mfcc lengths then pad the remaining ones\n",
    "    if (max_len > mfcc.shape[1]):\n",
    "        pad_width = max_len - mfcc.shape[1]\n",
    "        mfcc = np.pad(mfcc, pad_width = ((0, 0), (0, pad_width)), mode = 'constant')\n",
    "    # Else cutoff the remaining parts\n",
    "    else:\n",
    "        mfcc = mfcc[:, :max_len]\n",
    "    return mfcc\n",
    "\n",
    "def save_data_to_array(path, max_len = 11):\n",
    "    labels, _, _ = get_labels(path)\n",
    "    for label in labels:\n",
    "        # Init mfcc vectors\n",
    "        mfcc_vectors = []\n",
    "        wavfiles = [path + label + '/' + wavfile for wavfile in os.listdir(path + '/' + label)]\n",
    "        for wavfile in tqdm(wavfiles, \"Saving vectors of label - '{}'\".format(label)):\n",
    "            mfcc = wav2mfcc(wavfile, max_len=max_len)\n",
    "            mfcc_vectors.append(mfcc)\n",
    "        np.save(label + '.npy', mfcc_vectors)\n",
    "\n",
    "def get_train_test(path, split_ratio = 0.8):\n",
    "    # Get available labels\n",
    "    labels, indices, _ = get_labels(path)\n",
    "    # Getting first arrays\n",
    "    X = np.load(labels[0] + '.npy')\n",
    "    y = np.zeros(X.shape[0])\n",
    "    # Append all of the dataset into one single array, same goes for y\n",
    "    for i, label in enumerate(labels[1:]):\n",
    "        x = np.load(label + '.npy')\n",
    "        X = np.vstack((X, x))\n",
    "        y = np.append(y, np.full(x.shape[0], fill_value= (i + 1)))\n",
    "    assert X.shape[0] == len(y)\n",
    "    return train_test_split(X, y, test_size= (1 - split_ratio), shuffle=True)"
   ]
  },
  {
   "cell_type": "code",
   "execution_count": 3,
   "metadata": {},
   "outputs": [
    {
     "name": "stderr",
     "output_type": "stream",
     "text": [
      "Saving vectors of label - 'bed': 100%|████████████████████████████████████████████| 1713/1713 [00:09<00:00, 174.10it/s]\n",
      "Saving vectors of label - 'bird': 100%|███████████████████████████████████████████| 1731/1731 [00:09<00:00, 173.18it/s]\n",
      "Saving vectors of label - 'cat': 100%|████████████████████████████████████████████| 1733/1733 [00:10<00:00, 157.62it/s]\n",
      "Saving vectors of label - 'dog': 100%|████████████████████████████████████████████| 1746/1746 [00:15<00:00, 114.44it/s]\n",
      "Saving vectors of label - 'down': 100%|████████████████████████████████████████████| 2359/2359 [00:24<00:00, 95.72it/s]\n",
      "Saving vectors of label - 'eight': 100%|██████████████████████████████████████████| 2352/2352 [00:22<00:00, 105.18it/s]\n",
      "Saving vectors of label - 'five': 100%|███████████████████████████████████████████| 2357/2357 [00:21<00:00, 110.30it/s]\n",
      "Saving vectors of label - 'four': 100%|████████████████████████████████████████████| 2372/2372 [00:26<00:00, 89.93it/s]\n",
      "Saving vectors of label - 'go': 100%|██████████████████████████████████████████████| 2372/2372 [00:26<00:00, 90.80it/s]\n",
      "Saving vectors of label - 'happy': 100%|██████████████████████████████████████████| 1742/1742 [00:17<00:00, 100.73it/s]\n",
      "Saving vectors of label - 'house': 100%|███████████████████████████████████████████| 1750/1750 [00:19<00:00, 90.97it/s]\n",
      "Saving vectors of label - 'left': 100%|████████████████████████████████████████████| 2353/2353 [00:29<00:00, 80.61it/s]\n",
      "Saving vectors of label - 'marvin': 100%|██████████████████████████████████████████| 1746/1746 [00:19<00:00, 87.35it/s]\n",
      "Saving vectors of label - 'nine': 100%|████████████████████████████████████████████| 2364/2364 [00:32<00:00, 73.85it/s]\n",
      "Saving vectors of label - 'no': 100%|██████████████████████████████████████████████| 2375/2375 [00:30<00:00, 78.28it/s]\n",
      "Saving vectors of label - 'off': 100%|████████████████████████████████████████████| 2357/2357 [00:20<00:00, 114.37it/s]\n",
      "Saving vectors of label - 'on': 100%|█████████████████████████████████████████████| 2367/2367 [00:20<00:00, 115.91it/s]\n",
      "Saving vectors of label - 'one': 100%|████████████████████████████████████████████| 2370/2370 [00:20<00:00, 114.74it/s]\n",
      "Saving vectors of label - 'right': 100%|██████████████████████████████████████████| 2367/2367 [00:20<00:00, 116.40it/s]\n",
      "Saving vectors of label - 'seven': 100%|██████████████████████████████████████████| 2377/2377 [00:20<00:00, 115.35it/s]\n",
      "Saving vectors of label - 'sheila': 100%|█████████████████████████████████████████| 1734/1734 [00:15<00:00, 111.87it/s]\n",
      "Saving vectors of label - 'six': 100%|████████████████████████████████████████████| 2369/2369 [00:20<00:00, 115.28it/s]\n",
      "Saving vectors of label - 'stop': 100%|███████████████████████████████████████████| 2380/2380 [00:20<00:00, 115.29it/s]\n",
      "Saving vectors of label - 'three': 100%|██████████████████████████████████████████| 2356/2356 [00:20<00:00, 113.36it/s]\n",
      "Saving vectors of label - 'tree': 100%|███████████████████████████████████████████| 1733/1733 [00:14<00:00, 116.06it/s]\n",
      "Saving vectors of label - 'two': 100%|████████████████████████████████████████████| 2373/2373 [00:22<00:00, 103.64it/s]\n",
      "Saving vectors of label - 'up': 100%|█████████████████████████████████████████████| 2375/2375 [00:20<00:00, 113.39it/s]\n",
      "Saving vectors of label - 'wow': 100%|████████████████████████████████████████████| 1745/1745 [00:15<00:00, 115.35it/s]\n",
      "Saving vectors of label - 'yes': 100%|████████████████████████████████████████████| 2377/2377 [00:22<00:00, 104.18it/s]\n",
      "Saving vectors of label - 'zero': 100%|███████████████████████████████████████████| 2376/2376 [00:20<00:00, 117.00it/s]\n"
     ]
    },
    {
     "name": "stdout",
     "output_type": "stream",
     "text": [
      "\n",
      "Epoch 00001: val_loss improved from inf to 1.09154, saving model to model.h5\n",
      "\n",
      "Epoch 00002: val_loss improved from 1.09154 to 0.83046, saving model to model.h5\n",
      "\n",
      "Epoch 00003: val_loss improved from 0.83046 to 0.76888, saving model to model.h5\n",
      "\n",
      "Epoch 00004: val_loss improved from 0.76888 to 0.67950, saving model to model.h5\n",
      "\n",
      "Epoch 00005: val_loss did not improve from 0.67950\n",
      "\n",
      "Epoch 00006: val_loss did not improve from 0.67950\n",
      "\n",
      "Epoch 00007: val_loss did not improve from 0.67950\n",
      "\n",
      "Epoch 00008: val_loss did not improve from 0.67950\n",
      "\n",
      "Epoch 00009: val_loss did not improve from 0.67950\n",
      "Epoch 00009: early stopping\n"
     ]
    }
   ],
   "source": [
    "# Folder Path\n",
    "DATA_PATH = \"./data/\"\n",
    "num_classes = 30\n",
    "\n",
    "# Save data to array file first\n",
    "save_data_to_array(DATA_PATH, max_len = 11)\n",
    "\n",
    "# Loading train set and test set\n",
    "X_train, X_test, y_train, y_test = get_train_test(DATA_PATH)\n",
    "\n",
    "# one hot encoding\n",
    "y_train_hot = to_categorical(y_train)\n",
    "y_test_hot = to_categorical(y_test)\n",
    "\n",
    "# Feature dimension\n",
    "feature_dim_1 = 20\n",
    "feature_dim_2 = 11\n",
    "channel = 1\n",
    "\n",
    "# Reshaping to perform 2D convolution\n",
    "X_train_reshaped = X_train.reshape(X_train.shape[0], feature_dim_1, feature_dim_2, channel)\n",
    "X_test_reshaped = X_test.reshape(X_test.shape[0], feature_dim_1, feature_dim_2, channel)\n",
    "\n",
    "# defining CNN model\n",
    "model = Sequential()\n",
    "model.add(Conv2D(32, kernel_size = (2, 2), activation = 'relu', input_shape = (feature_dim_1, feature_dim_2, channel)))\n",
    "model.add(Conv2D(64, kernel_size = (2, 2), activation = 'relu'))\n",
    "model.add(Conv2D(128, kernel_size = (2, 2), activation='relu'))\n",
    "model.add(MaxPooling2D(pool_size = (2, 2)))\n",
    "model.add(Flatten())\n",
    "model.add(Dense(256, activation = 'relu'))\n",
    "model.add(Dropout(0.125))\n",
    "model.add(Dense(512, activation = 'relu'))\n",
    "model.add(Dropout(0.25))\n",
    "model.add(Dense(num_classes, activation = 'softmax'))\n",
    "model.compile(loss = 'categorical_crossentropy', optimizer = 'adam', metrics = ['categorical_accuracy'])\n",
    "\n",
    "# Fit the model\n",
    "checkpoint = ModelCheckpoint(filepath = 'model.h5', save_best_only = True, verbose = 1)\n",
    "earlystop = EarlyStopping(min_delta = 0.001, patience = 5, verbose = 1)\n",
    "history = model.fit(X_train_reshaped, y_train_hot, batch_size = 100, epochs = 100, validation_split = 0.25, callbacks = [checkpoint, earlystop], verbose = 0)\n",
    "\n",
    "# evaluate the model\n",
    "model = load_model('model.h5')\n",
    "scores = model.evaluate(X_test_reshaped, y_test_hot, verbose = 0)"
   ]
  },
  {
   "cell_type": "code",
   "execution_count": 4,
   "metadata": {},
   "outputs": [
    {
     "name": "stdout",
     "output_type": "stream",
     "text": [
      "_________________________________________________________________\n",
      "Layer (type)                 Output Shape              Param #   \n",
      "=================================================================\n",
      "conv2d_1 (Conv2D)            (None, 19, 10, 32)        160       \n",
      "_________________________________________________________________\n",
      "conv2d_2 (Conv2D)            (None, 18, 9, 64)         8256      \n",
      "_________________________________________________________________\n",
      "conv2d_3 (Conv2D)            (None, 17, 8, 128)        32896     \n",
      "_________________________________________________________________\n",
      "max_pooling2d_1 (MaxPooling2 (None, 8, 4, 128)         0         \n",
      "_________________________________________________________________\n",
      "flatten_1 (Flatten)          (None, 4096)              0         \n",
      "_________________________________________________________________\n",
      "dense_1 (Dense)              (None, 256)               1048832   \n",
      "_________________________________________________________________\n",
      "dropout_1 (Dropout)          (None, 256)               0         \n",
      "_________________________________________________________________\n",
      "dense_2 (Dense)              (None, 512)               131584    \n",
      "_________________________________________________________________\n",
      "dropout_2 (Dropout)          (None, 512)               0         \n",
      "_________________________________________________________________\n",
      "dense_3 (Dense)              (None, 30)                15390     \n",
      "=================================================================\n",
      "Total params: 1,237,118\n",
      "Trainable params: 1,237,118\n",
      "Non-trainable params: 0\n",
      "_________________________________________________________________\n",
      "None\n"
     ]
    },
    {
     "data": {
      "image/png": "[encoded data removed]",
      "text/plain": [
       "<Figure size 432x288 with 1 Axes>"
      ]
     },
     "metadata": {},
     "output_type": "display_data"
    },
    {
     "name": "stdout",
     "output_type": "stream",
     "text": [
      "Model categorical_accuracy: 79.96%\n"
     ]
    }
   ],
   "source": [
    "# printing results\n",
    "print(model.summary())\n",
    "plot_model(model, to_file='cnn.png', show_shapes = True, show_layer_names = False)\n",
    "plt.plot(history.history['categorical_accuracy'])\n",
    "plt.plot(history.history['loss'])\n",
    "plt.title('Improvement during Training')\n",
    "plt.ylabel('Model Metrics')\n",
    "plt.xlabel('Number of Epochs Passed')\n",
    "plt.legend(['training accuracy', 'training loss'], loc = 'best')\n",
    "plt.savefig('progress.png')\n",
    "plt.show()\n",
    "print(\"Model %s: %.2f%%\" % (model.metrics_names[1], scores[1] * 100))"
   ]
  }
 ],
 "metadata": {
  "kernelspec": {
   "display_name": "Python 3",
   "language": "python",
   "name": "python3"
  },
  "language_info": {
   "codemirror_mode": {
    "name": "ipython",
    "version": 3
   },
   "file_extension": ".py",
   "mimetype": "text/x-python",
   "name": "python",
   "nbconvert_exporter": "python",
   "pygments_lexer": "ipython3",
   "version": "3.6.5"
  }
 },
 "nbformat": 4,
 "nbformat_minor": 2
}
